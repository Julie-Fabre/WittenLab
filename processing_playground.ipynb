{
 "cells": [
  {
   "cell_type": "markdown",
   "id": "0fda795b",
   "metadata": {},
   "source": [
    "## Processing playground \n",
    "### tracking neurons across days "
   ]
  },
  {
   "cell_type": "code",
   "execution_count": 3,
   "id": "cae836c0",
   "metadata": {},
   "outputs": [
    {
     "name": "stdout",
     "output_type": "stream",
     "text": [
      "The autoreload extension is already loaded. To reload it, use:\n",
      "  %reload_ext autoreload\n"
     ]
    }
   ],
   "source": [
    "%load_ext autoreload\n",
    "%autoreload \n",
    "\n",
    "import UnitMatchPy.bayes_functions as bf\n",
    "import UnitMatchPy.utils as util\n",
    "import UnitMatchPy.overlord as ov\n",
    "import numpy as np\n",
    "import matplotlib.pyplot as plt\n",
    "import UnitMatchPy.save_utils as su\n",
    "import UnitMatchPy.GUI as gui\n",
    "import UnitMatchPy.assign_unique_id as aid\n",
    "import UnitMatchPy.default_params as default_params"
   ]
  },
  {
   "cell_type": "code",
   "execution_count": 8,
   "id": "326afb5a",
   "metadata": {},
   "outputs": [],
   "source": [
    "\n",
    "## Step 1: Set up file paths\n",
    "# Get default parameters, can add your own before or after!\n",
    "param = default_params.get_default_param()\n",
    "# KiloSort directories - USE SAME SESSION TWICE for merge/split testing\n",
    "# loop for animals in cta_backwards directory starting with calca_2 ot calca_3. use two last day folders inside. \n",
    "KS_dirs = [r'/home/jf5479/cup/Chris/data/cta_backwards/calca_302/2023-04-19/cz_npxl_g0/cz_npxl_g0_imec0/kilosort4',\n",
    "           r'/home/jf5479/cup/Chris/data/cta_backwards/calca_302/2023-04-20/cz_npxl_g0/cz_npxl_g0_imec0/kilosort4']  # Same session repeated\n",
    "param['KS_dirs'] = KS_dirs\n",
    "\n",
    "# BombCell output directories - USE SAME SESSION TWICE  \n",
    "custom_bombcell_paths = [r'/home/jf5479/cup/Chris/data/cta_backwards/calca_302/2023-04-19/cz_npxl_g0/cz_npxl_g0_imec0/bombcell_testing_jf/cluster_bc_unitType.tsv',\n",
    "                         r'/home/jf5479/cup/Chris/data/cta_backwards/calca_302/2023-04-20/cz_npxl_g0/cz_npxl_g0_imec0/bombcell_testing_jf/cluster_bc_unitType.tsv']  # Same session repeated\n",
    "\n",
    "custom_raw_waveform_paths = [r'/home/jf5479/cup/Chris/data/cta_backwards/calca_302/2023-04-19/cz_npxl_g0/cz_npxl_g0_imec0/bombcell_testing_jf/RawWaveforms', \n",
    "                             r'/home/jf5479/cup/Chris/data/cta_backwards/calca_302/2023-04-20/cz_npxl_g0/cz_npxl_g0_imec0/bombcell_testing_jf/RawWaveforms']\n",
    "wave_paths, unit_label_paths, channel_pos = util.paths_from_KS(\n",
    "    KS_dirs, \n",
    "    custom_raw_waveform_paths=custom_raw_waveform_paths,\n",
    "    custom_bombcell_paths=custom_bombcell_paths\n",
    ")\n",
    "\n",
    "param = util.get_probe_geometry(channel_pos[0], param)"
   ]
  },
  {
   "cell_type": "code",
   "execution_count": 9,
   "id": "34299cec",
   "metadata": {},
   "outputs": [
    {
     "name": "stdout",
     "output_type": "stream",
     "text": [
      "Calculating the probability distributions of the metric scores\n",
      "Calculating the match probabilities\n"
     ]
    }
   ],
   "source": [
    "# STEP 0 -- data preparation\n",
    "# Read in data and select the good units and exact metadata\n",
    "waveform, session_id, session_switch, within_session, good_units, param = util.load_good_waveforms(wave_paths, unit_label_paths, param, good_units_only = True) \n",
    "\n",
    "# param['peak_loc'] = #may need to set as a value if the peak location is NOT ~ half the spike width\n",
    "\n",
    "# Create clus_info, contains all unit id/session related info\n",
    "clus_info = {'good_units' : good_units, 'session_switch' : session_switch, 'session_id' : session_id, \n",
    "            'original_ids' : np.concatenate(good_units) }\n",
    "\n",
    "# STEP 1\n",
    "# Extract parameters from waveform\n",
    "extracted_wave_properties = ov.extract_parameters(waveform, channel_pos, clus_info, param)\n",
    "\n",
    "# STEP 2, 3, 4\n",
    "# Extract metric scores\n",
    "total_score, candidate_pairs, scores_to_include, predictors  = ov.extract_metric_scores(extracted_wave_properties, session_switch, within_session, param, niter  = 2)\n",
    "\n",
    "# STEP 5\n",
    "# Probability analysis\n",
    "# Get prior probability of being a match\n",
    "prior_match = 1 - (param['n_expected_matches'] / param['n_units']**2 ) # freedom of choose in prior prob\n",
    "priors = np.array((prior_match, 1-prior_match))\n",
    "\n",
    "# Construct distributions (kernels) for Naive Bayes Classifier\n",
    "labels = candidate_pairs.astype(int)\n",
    "cond = np.unique(labels)\n",
    "score_vector = param['score_vector']\n",
    "parameter_kernels = np.full((len(score_vector), len(scores_to_include), len(cond)), np.nan)\n",
    "\n",
    "parameter_kernels = bf.get_parameter_kernels(scores_to_include, labels, cond, param, add_one = 1)\n",
    "\n",
    "# Get probability of each pair of being a match\n",
    "probability = bf.apply_naive_bayes(parameter_kernels, priors, predictors, param, cond)\n",
    "\n",
    "output_prob_matrix = probability[:,1].reshape(param['n_units'],param['n_units'])"
   ]
  },
  {
   "cell_type": "code",
   "execution_count": 10,
   "id": "4c8dca3f",
   "metadata": {},
   "outputs": [
    {
     "name": "stdout",
     "output_type": "stream",
     "text": [
      "The percentage of units matched to themselves is: 69.50819672131148%\n",
      "The percentage of false -ve's then is: 30.491803278688522% \n",
      "\n",
      "The rate of miss-match(es) per expected match 0.08852459016393442\n",
      "The percentage of false +ve's is 0.06613131790269249% for session 1\n",
      "The percentage of false +ve's is 0.05174747233500517% for session 2\n",
      "\n",
      "This assumes that the spike sorter has made no mistakes\n"
     ]
    },
    {
     "data": {
      "text/plain": [
       "<matplotlib.image.AxesImage at 0x7eba3594d4d0>"
      ]
     },
     "execution_count": 10,
     "metadata": {},
     "output_type": "execute_result"
    },
    {
     "data": {
      "image/png": "[encoded data removed]",
      "text/plain": [
       "<Figure size 640x480 with 1 Axes>"
      ]
     },
     "metadata": {},
     "output_type": "display_data"
    }
   ],
   "source": [
    "util.evaluate_output(output_prob_matrix, param, within_session, session_switch, match_threshold = 0.75)\n",
    "\n",
    "match_threshold = param['match_threshold']\n",
    "# match_threshold = try different values here!\n",
    "\n",
    "output_threshold = np.zeros_like(output_prob_matrix)\n",
    "output_threshold[output_prob_matrix > match_threshold] = 1\n",
    "\n",
    "plt.imshow(output_threshold, cmap = 'Greys')\n"
   ]
  },
  {
   "cell_type": "code",
   "execution_count": 11,
   "id": "20265e9f",
   "metadata": {},
   "outputs": [],
   "source": [
    "# STEP 6\n",
    "# Format data for GUI\n",
    "amplitude = extracted_wave_properties['amplitude']\n",
    "spatial_decay = extracted_wave_properties['spatial_decay']\n",
    "avg_centroid = extracted_wave_properties['avg_centroid']\n",
    "avg_waveform = extracted_wave_properties['avg_waveform']\n",
    "avg_waveform_per_tp = extracted_wave_properties['avg_waveform_per_tp']\n",
    "wave_idx = extracted_wave_properties['good_wave_idxs']\n",
    "max_site = extracted_wave_properties['max_site']\n",
    "max_site_mean = extracted_wave_properties['max_site_mean']\n",
    "gui.process_info_for_GUI(output_prob_matrix, match_threshold, scores_to_include, total_score, amplitude, spatial_decay,\n",
    "                         avg_centroid, avg_waveform, avg_waveform_per_tp, wave_idx, max_site, max_site_mean, \n",
    "                         waveform, within_session, channel_pos, clus_info, param)\n"
   ]
  },
  {
   "cell_type": "code",
   "execution_count": 12,
   "id": "0ee5de23",
   "metadata": {},
   "outputs": [
    {
     "name": "stdout",
     "output_type": "stream",
     "text": [
      "Calculating similarity metrics and applying drift correction...\n",
      "Debug patched function:\n",
      "include_these_pairs length: 8519\n",
      "n_expected_matches: 581\n",
      "prior_match calculation: 1 - (581 / 8519) = 0.9317995069843878\n",
      "prior_match value: 0.9317995069843878\n",
      "prior_match type: <class 'numpy.float64'>\n",
      "Is prior_match finite: True\n",
      "total_score shape: (305, 305)\n",
      "include_these_pairs_idx sum: 8519\n",
      "total_score[include_these_pairs_idx.astype(bool)] shape: (8519,)\n",
      "total_score min: 0.06936152845790065\n",
      "total_score max: 1.0\n",
      "Quantile calculation succeeded: 0.7447032168566696\n",
      "SUCCESS: Number of candidate pairs: 581\n",
      "Scores included: ['amp_score', 'spatial_decay_score', 'centroid_overlord_score', 'centroid_dist', 'waveform_score', 'trajectory_score']\n",
      "Metric calculation and drift correction complete.\n"
     ]
    }
   ],
   "source": [
    "## Step 5: UnitMatch - Metric Calculation and Drift Correction\n",
    "print(\"Calculating similarity metrics and applying drift correction...\")\n",
    "\n",
    "# Temporarily patch the UnitMatch overlord function to debug the quantile issue\n",
    "import UnitMatchPy.overlord as ov_original\n",
    "import UnitMatchPy.metric_functions as mf\n",
    "\n",
    "def patched_extract_metric_scores(extracted_wave_properties, session_switch, within_session, param, niter=2):\n",
    "    \"\"\"Patched version with debugging for quantile issue\"\"\"\n",
    "    import numpy as np\n",
    "    \n",
    "    # Unpack needed arrays from the ExtractedWaveProperties dictionary\n",
    "    amplitude = extracted_wave_properties['amplitude']\n",
    "    spatial_decay = extracted_wave_properties['spatial_decay']\n",
    "    spatial_decay_fit = extracted_wave_properties['spatial_decay_fit']\n",
    "    avg_waveform = extracted_wave_properties['avg_waveform']\n",
    "    avg_waveform_per_tp = extracted_wave_properties['avg_waveform_per_tp']\n",
    "    avg_centroid = extracted_wave_properties['avg_centroid']\n",
    "\n",
    "    # These scores are NOT affected by the drift correction\n",
    "    amp_score = mf.get_simple_metric(amplitude)\n",
    "    spatial_decay_score = mf.get_simple_metric(spatial_decay)\n",
    "    spatial_decay_fit_score = mf.get_simple_metric(spatial_decay_fit, outlier=True)\n",
    "    wave_corr_score = mf.get_wave_corr(avg_waveform, param)\n",
    "    wave_mse_score = mf.get_waveforms_mse(avg_waveform, param)\n",
    "\n",
    "    # Affected by drift\n",
    "    for i in range(niter):\n",
    "        avg_waveform_per_tp_flip = mf.flip_dim(avg_waveform_per_tp, param)\n",
    "        euclid_dist = mf.get_Euclidean_dist(avg_waveform_per_tp_flip, param)\n",
    "\n",
    "        centroid_dist, centroid_var = mf.centroid_metrics(euclid_dist, param)\n",
    "\n",
    "        euclid_dist_rc = mf.get_recentered_euclidean_dist(avg_waveform_per_tp_flip, avg_centroid, param)\n",
    "\n",
    "        centroid_dist_recentered = mf.recentered_metrics(euclid_dist_rc)\n",
    "        traj_angle_score, traj_dist_score = mf.dist_angle(avg_waveform_per_tp_flip, param)\n",
    "\n",
    "        # Average Euc Dist\n",
    "        euclid_dist = np.nanmin(euclid_dist[:,param['peak_loc'] - param['waveidx'] == 0, :,:].squeeze(), axis=1)\n",
    "\n",
    "        # TotalScore\n",
    "        include_these_pairs = np.argwhere(euclid_dist < param['max_dist'])  # array indices of pairs to include\n",
    "        include_these_pairs_idx = np.zeros_like(euclid_dist)\n",
    "        include_these_pairs_idx[euclid_dist < param['max_dist']] = 1\n",
    "\n",
    "        # Make a dictionary of score to include\n",
    "        centroid_overlord_score = (centroid_dist_recentered + centroid_var) / 2\n",
    "        waveform_score = (wave_corr_score + wave_mse_score) / 2\n",
    "        trajectory_score = (traj_angle_score + traj_dist_score) / 2\n",
    "\n",
    "        scores_to_include = {'amp_score': amp_score, 'spatial_decay_score': spatial_decay_score, 'centroid_overlord_score': centroid_overlord_score,\n",
    "                            'centroid_dist': centroid_dist, 'waveform_score': waveform_score, 'trajectory_score': trajectory_score}\n",
    "\n",
    "        total_score, predictors = mf.get_total_score(scores_to_include, param)\n",
    "\n",
    "        # Initial thresholding\n",
    "        if (i < niter - 1):\n",
    "            # Get the threshold for a match\n",
    "            thrs_opt = mf.get_threshold(total_score, within_session, euclid_dist, param, is_first_pass=True)\n",
    "\n",
    "            param['n_expected_matches'] = np.sum((total_score > thrs_opt).astype(int))\n",
    "            prior_match = 1 - (param['n_expected_matches'] / len(include_these_pairs))\n",
    "            candidate_pairs = total_score > thrs_opt\n",
    "\n",
    "            drifts, avg_centroid, avg_waveform_per_tp = mf.drift_n_sessions(candidate_pairs, session_switch, avg_centroid, avg_waveform_per_tp, total_score, param)\n",
    "\n",
    "    # Final threshold calculation with debugging\n",
    "    thrs_opt = mf.get_threshold(total_score, within_session, euclid_dist, param, is_first_pass=False)\n",
    "    param['n_expected_matches'] = np.sum((total_score > thrs_opt).astype(int))\n",
    "    prior_match = 1 - (param['n_expected_matches'] / len(include_these_pairs))\n",
    "    \n",
    "    # Debug: Let's examine the total_score and prior_match values\n",
    "    print(f\"Debug patched function:\")\n",
    "    print(f\"include_these_pairs length: {len(include_these_pairs)}\")\n",
    "    print(f\"n_expected_matches: {param['n_expected_matches']}\")\n",
    "    print(f\"prior_match calculation: 1 - ({param['n_expected_matches']} / {len(include_these_pairs)}) = {prior_match}\")\n",
    "    print(f\"prior_match value: {prior_match}\")\n",
    "    print(f\"prior_match type: {type(prior_match)}\")\n",
    "    print(f\"Is prior_match finite: {np.isfinite(prior_match)}\")\n",
    "    print(f\"total_score shape: {total_score.shape}\")\n",
    "    print(f\"include_these_pairs_idx sum: {np.sum(include_these_pairs_idx.astype(bool))}\")\n",
    "    print(f\"total_score[include_these_pairs_idx.astype(bool)] shape: {total_score[include_these_pairs_idx.astype(bool)].shape}\")\n",
    "    \n",
    "    if len(include_these_pairs) > 0:\n",
    "        print(f\"total_score min: {np.min(total_score[include_these_pairs_idx.astype(bool)])}\")\n",
    "        print(f\"total_score max: {np.max(total_score[include_these_pairs_idx.astype(bool)])}\")\n",
    "    \n",
    "    # Original problematic line that we're trying to debug\n",
    "    try:\n",
    "        thrs_opt = np.quantile(total_score[include_these_pairs_idx.astype(bool)], prior_match)\n",
    "        print(f\"Quantile calculation succeeded: {thrs_opt}\")\n",
    "    except Exception as e:\n",
    "        print(f\"Quantile calculation failed: {e}\")\n",
    "        # Let's try to understand what's wrong\n",
    "        if not (0 <= prior_match <= 1):\n",
    "            print(\"prior_match is outside [0,1] range!\")\n",
    "            if prior_match < 0:\n",
    "                print(\"prior_match is negative - using 0.0 instead\")\n",
    "                prior_match = 0.0\n",
    "            elif prior_match > 1:\n",
    "                print(\"prior_match is greater than 1 - using 1.0 instead\")\n",
    "                prior_match = 1.0\n",
    "            \n",
    "            try:\n",
    "                thrs_opt = np.quantile(total_score[include_these_pairs_idx.astype(bool)], prior_match)\n",
    "                print(f\"Quantile calculation with corrected prior_match succeeded: {thrs_opt}\")\n",
    "            except Exception as e2:\n",
    "                print(f\"Quantile calculation still failed: {e2}\")\n",
    "                thrs_opt = np.median(total_score[include_these_pairs_idx.astype(bool)])\n",
    "                print(f\"Using median as fallback: {thrs_opt}\")\n",
    "    \n",
    "    candidate_pairs = total_score > thrs_opt\n",
    "    return total_score, candidate_pairs, scores_to_include, predictors\n",
    "\n",
    "# Use the patched function\n",
    "try:\n",
    "    total_score, candidate_pairs, scores_to_include, predictors = patched_extract_metric_scores(\n",
    "        extracted_wave_properties, session_switch, within_session, param, niter=2\n",
    "    )\n",
    "\n",
    "    print(f\"SUCCESS: Number of candidate pairs: {np.sum(candidate_pairs)}\")\n",
    "    print(f\"Scores included: {list(scores_to_include.keys())}\")\n",
    "    print(\"Metric calculation and drift correction complete.\")\n",
    "    \n",
    "except Exception as e:\n",
    "    print(f\"ERROR in patched function: {e}\")\n",
    "    import traceback\n",
    "    traceback.print_exc()"
   ]
  },
  {
   "cell_type": "code",
   "execution_count": 16,
   "id": "3ea8886a",
   "metadata": {},
   "outputs": [
    {
     "data": {
      "text/plain": [
       "[657, 644]"
      ]
     },
     "execution_count": 16,
     "metadata": {},
     "output_type": "execute_result"
    }
   ],
   "source": [
    "param['n_units']\n",
    "param['n_units_per_session']"
   ]
  },
  {
   "cell_type": "code",
   "execution_count": 14,
   "id": "4a0fde98",
   "metadata": {},
   "outputs": [
    {
     "name": "stdout",
     "output_type": "stream",
     "text": [
      "Icon path: /home/jf5479/Dropbox/Python/UnitMatch/UnitMatchPy/UnitMatchPy/GUI_icon.png\n",
      "File exists: True\n"
     ]
    }
   ],
   "source": [
    "# Run GUI\n",
    "is_match, not_match, matches_GUI = gui.run_GUI()"
   ]
  },
  {
   "cell_type": "code",
   "execution_count": null,
   "id": "b64df43f",
   "metadata": {},
   "outputs": [],
   "source": [
    "matches_curated = util.curate_matches(matches_GUI, is_match, not_match, mode = 'And')"
   ]
  },
  {
   "cell_type": "code",
   "execution_count": null,
   "id": "2f54c4f5",
   "metadata": {},
   "outputs": [],
   "source": [
    "matches = np.argwhere(output_threshold == 1)\n",
    "UIDs = aid.assign_unique_id(output_prob_matrix, param, clus_info)\n",
    "\n",
    "save_dir = r'Path/to/save/dir'\n",
    "#NOTE - change to matches to matches_curated if done manual curation with the GUI\n",
    "su.save_to_output(save_dir, scores_to_include, matches # matches_curated\n",
    "                  , output_prob_matrix, avg_centroid, avg_waveform, avg_waveform_per_tp, max_site,\n",
    "                   total_score, output_threshold, clus_info, param, UIDs = UIDs, matches_curated = None, save_match_table = True)"
   ]
  },
  {
   "cell_type": "code",
   "execution_count": 17,
   "id": "04f1cd48",
   "metadata": {},
   "outputs": [
    {
     "name": "stdout",
     "output_type": "stream",
     "text": [
      "There are no curated matches/none matches\n"
     ]
    }
   ],
   "source": [
    "#all idx pairs where the probability is above the threshold\n",
    "matches_within_session = np.argwhere(output_threshold == 1) #include within session matches\n",
    "matches = np.argwhere( ((output_threshold * within_session)) == True) #exclude within session matches\n",
    "\n",
    "#this function has 2 mode 'and' 'or', which returns a matches if they appear in both or one cv pair\n",
    "#then it will add all the matches selected as IsMaatch, then remove all matches in NotMatch\n",
    "matches_curated = util.curate_matches(matches_GUI, is_match, not_match, mode = 'and')\n"
   ]
  },
  {
   "cell_type": "code",
   "execution_count": 20,
   "id": "fbe95040",
   "metadata": {},
   "outputs": [
    {
     "data": {
      "text/plain": [
       "950"
      ]
     },
     "execution_count": 20,
     "metadata": {},
     "output_type": "execute_result"
    }
   ],
   "source": [
    "np.size(matches)\n",
    "np.size(matches_within_session)"
   ]
  }
 ],
 "metadata": {
  "kernelspec": {
   "display_name": "ephys",
   "language": "python",
   "name": "python3"
  },
  "language_info": {
   "codemirror_mode": {
    "name": "ipython",
    "version": 3
   },
   "file_extension": ".py",
   "mimetype": "text/x-python",
   "name": "python",
   "nbconvert_exporter": "python",
   "pygments_lexer": "ipython3",
   "version": "3.11.13"
  }
 },
 "nbformat": 4,
 "nbformat_minor": 5
}
