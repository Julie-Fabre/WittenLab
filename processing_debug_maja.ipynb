{
 "cells": [
  {
   "cell_type": "markdown",
   "id": "0fda795b",
   "metadata": {},
   "source": [
    "## Debugging for Maja"
   ]
  },
  {
   "cell_type": "code",
   "execution_count": 2,
   "id": "a9e234df",
   "metadata": {},
   "outputs": [
    {
     "name": "stdout",
     "output_type": "stream",
     "text": [
      "The autoreload extension is already loaded. To reload it, use:\n",
      "  %reload_ext autoreload\n"
     ]
    }
   ],
   "source": [
    "import os, sys\n",
    "from pathlib import Path\n",
    "from pprint import pprint \n",
    "import numpy as np\n",
    "import pandas as pd\n",
    "pd.set_option('display.max_columns', 50)\n",
    "import matplotlib.pyplot as plt\n",
    "%load_ext autoreload\n",
    "%autoreload 2\n",
    "import bombcell as bc\n"
   ]
  },
  {
   "cell_type": "code",
   "execution_count": 5,
   "id": "b67dd0f0",
   "metadata": {},
   "outputs": [],
   "source": [
    "subject = \"a2a_230\"\n",
    "#session with NaN values in waveforms for dates: \"20240922\", \"20240929\",\"20241001\", \"20241009\"\n",
    "date = \"20241001\""
   ]
  },
  {
   "cell_type": "markdown",
   "id": "326afb5a",
   "metadata": {},
   "source": []
  },
  {
   "cell_type": "code",
   "execution_count": null,
   "id": "b651a307",
   "metadata": {},
   "outputs": [
    {
     "name": "stdout",
     "output_type": "stream",
     "text": [
      "Using kilosort directory: /home/jf5479/cup/Maja/for_Julie/a2a_230/20241001/catgt_TowersTask_g0/kilosort4\n"
     ]
    },
    {
     "ename": "FileNotFoundError",
     "evalue": "[Errno 2] No such file or directory: '/home/jf5479/cup/Maja/for_Julie/a2a_230/20241001/catgt_TowersTask_g0/TowersTask_g0_tcat.imec0.ap.meta'",
     "output_type": "error",
     "traceback": [
      "\u001b[31m---------------------------------------------------------------------------\u001b[39m",
      "\u001b[31mFileNotFoundError\u001b[39m                         Traceback (most recent call last)",
      "\u001b[36mCell\u001b[39m\u001b[36m \u001b[39m\u001b[32mIn[7]\u001b[39m\u001b[32m, line 7\u001b[39m\n\u001b[32m      5\u001b[39m \u001b[38;5;28mprint\u001b[39m(\u001b[33mf\u001b[39m\u001b[33m\"\u001b[39m\u001b[33mUsing kilosort directory: \u001b[39m\u001b[38;5;132;01m{\u001b[39;00mks_dir\u001b[38;5;132;01m}\u001b[39;00m\u001b[33m\"\u001b[39m) \n\u001b[32m      6\u001b[39m meta_file = \u001b[33mrf\u001b[39m\u001b[33m\"\u001b[39m\u001b[33m/home/jf5479/cup/Maja/for_Julie/\u001b[39m\u001b[38;5;132;01m{\u001b[39;00msubject\u001b[38;5;132;01m}\u001b[39;00m\u001b[33m/\u001b[39m\u001b[38;5;132;01m{\u001b[39;00mdate\u001b[38;5;132;01m}\u001b[39;00m\u001b[33m/catgt_TowersTask_g0/TowersTask_g0_tcat.imec0.ap.meta\u001b[39m\u001b[33m\"\u001b[39m   \n\u001b[32m----> \u001b[39m\u001b[32m7\u001b[39m param = \u001b[43mbc\u001b[49m\u001b[43m.\u001b[49m\u001b[43mget_default_parameters\u001b[49m\u001b[43m(\u001b[49m\u001b[43mks_dir\u001b[49m\u001b[43m,\u001b[49m\u001b[43m \u001b[49m\u001b[43mmeta_file\u001b[49m\u001b[43m=\u001b[49m\u001b[43mmeta_file\u001b[49m\u001b[43m)\u001b[49m \n\u001b[32m      8\u001b[39m param[\u001b[33m\"\u001b[39m\u001b[33mextractRaw\u001b[39m\u001b[33m\"\u001b[39m] = \u001b[38;5;28;01mTrue\u001b[39;00m\n\u001b[32m      9\u001b[39m param [\u001b[33m'\u001b[39m\u001b[33mraw_data_file\u001b[39m\u001b[33m'\u001b[39m]= \u001b[33mrf\u001b[39m\u001b[33m\"\u001b[39m\u001b[33m/home/jf5479/cup/Maja/for_Julie/\u001b[39m\u001b[38;5;132;01m{\u001b[39;00msubject\u001b[38;5;132;01m}\u001b[39;00m\u001b[33m/\u001b[39m\u001b[38;5;132;01m{\u001b[39;00mdate\u001b[38;5;132;01m}\u001b[39;00m\u001b[33m/catgt_TowersTask_g0/TowersTask_g0_tcat.imec0.ap.bin\u001b[39m\u001b[33m\"\u001b[39m\n",
      "\u001b[36mFile \u001b[39m\u001b[32m~/Dropbox/Python/bombcell/py_bombcell/bombcell/default_parameters.py:143\u001b[39m, in \u001b[36mget_default_parameters\u001b[39m\u001b[34m(kilosort_path, raw_file, kilosort_version, meta_file, gain_to_uV)\u001b[39m\n\u001b[32m    141\u001b[39m     raw_file = manage_data_compression(Path(raw_file).parent)\n\u001b[32m    142\u001b[39m \u001b[38;5;28;01mif\u001b[39;00m meta_file \u001b[38;5;129;01mis\u001b[39;00m \u001b[38;5;129;01mnot\u001b[39;00m \u001b[38;5;28;01mNone\u001b[39;00m \u001b[38;5;129;01mand\u001b[39;00m gain_to_uV \u001b[38;5;129;01mis\u001b[39;00m \u001b[38;5;28;01mNone\u001b[39;00m:\n\u001b[32m--> \u001b[39m\u001b[32m143\u001b[39m     gain_to_uV = \u001b[43mget_gain_spikeglx\u001b[49m\u001b[43m(\u001b[49m\u001b[43mmeta_file\u001b[49m\u001b[43m)\u001b[49m\n\u001b[32m    145\u001b[39m \u001b[38;5;66;03m# Add to param dictionnary\u001b[39;00m\n\u001b[32m    146\u001b[39m \u001b[38;5;28;01mif\u001b[39;00m meta_file \u001b[38;5;129;01mis\u001b[39;00m \u001b[38;5;129;01mnot\u001b[39;00m \u001b[38;5;28;01mNone\u001b[39;00m:\n",
      "\u001b[36mFile \u001b[39m\u001b[32m~/Dropbox/Python/bombcell/py_bombcell/bombcell/loading_utils.py:161\u001b[39m, in \u001b[36mget_gain_spikeglx\u001b[39m\u001b[34m(meta_path)\u001b[39m\n\u001b[32m    142\u001b[39m \u001b[38;5;28;01mdef\u001b[39;00m\u001b[38;5;250m \u001b[39m\u001b[34mget_gain_spikeglx\u001b[39m(meta_path):\n\u001b[32m    143\u001b[39m \u001b[38;5;250m    \u001b[39m\u001b[33;03m\"\"\"\u001b[39;00m\n\u001b[32m    144\u001b[39m \u001b[33;03m    This function finds the probe type for the spike glx meta folder and also works out the gain\u001b[39;00m\n\u001b[32m    145\u001b[39m \n\u001b[32m   (...)\u001b[39m\u001b[32m    159\u001b[39m \u001b[33;03m        If the probe type is not handled\u001b[39;00m\n\u001b[32m    160\u001b[39m \u001b[33;03m    \"\"\"\u001b[39;00m\n\u001b[32m--> \u001b[39m\u001b[32m161\u001b[39m     meta_dict = \u001b[43merw\u001b[49m\u001b[43m.\u001b[49m\u001b[43mread_meta\u001b[49m\u001b[43m(\u001b[49m\u001b[43mPath\u001b[49m\u001b[43m(\u001b[49m\u001b[43mmeta_path\u001b[49m\u001b[43m)\u001b[49m\u001b[43m)\u001b[49m\n\u001b[32m    163\u001b[39m     \u001b[38;5;28;01mif\u001b[39;00m np.isin(\u001b[33m\"\u001b[39m\u001b[33mimDatPrb_type\u001b[39m\u001b[33m\"\u001b[39m, \u001b[38;5;28mlist\u001b[39m(meta_dict.keys())):\n\u001b[32m    164\u001b[39m         probeType = meta_dict[\u001b[33m\"\u001b[39m\u001b[33mimDatPrb_type\u001b[39m\u001b[33m\"\u001b[39m]\n",
      "\u001b[36mFile \u001b[39m\u001b[32m~/Dropbox/Python/bombcell/py_bombcell/bombcell/extract_raw_waveforms.py:38\u001b[39m, in \u001b[36mread_meta\u001b[39m\u001b[34m(meta_path)\u001b[39m\n\u001b[32m     24\u001b[39m \u001b[38;5;250m\u001b[39m\u001b[33;03m\"\"\"\u001b[39;00m\n\u001b[32m     25\u001b[39m \u001b[33;03mRead the meta file attached to a recording.\u001b[39;00m\n\u001b[32m     26\u001b[39m \n\u001b[32m   (...)\u001b[39m\u001b[32m     35\u001b[39m \u001b[33;03m    The meta file opened as a dictionary\u001b[39;00m\n\u001b[32m     36\u001b[39m \u001b[33;03m\"\"\"\u001b[39;00m\n\u001b[32m     37\u001b[39m meta_dict = {}\n\u001b[32m---> \u001b[39m\u001b[32m38\u001b[39m \u001b[38;5;28;01mwith\u001b[39;00m \u001b[43mmeta_path\u001b[49m\u001b[43m.\u001b[49m\u001b[43mopen\u001b[49m\u001b[43m(\u001b[49m\u001b[43m)\u001b[49m \u001b[38;5;28;01mas\u001b[39;00m f:\n\u001b[32m     39\u001b[39m     mdat_list = f.read().splitlines()\n\u001b[32m     40\u001b[39m     \u001b[38;5;66;03m# convert the list entries into key value pairs\u001b[39;00m\n",
      "\u001b[36mFile \u001b[39m\u001b[32m~/anaconda3/envs/ephys/lib/python3.11/pathlib.py:1044\u001b[39m, in \u001b[36mPath.open\u001b[39m\u001b[34m(self, mode, buffering, encoding, errors, newline)\u001b[39m\n\u001b[32m   1042\u001b[39m \u001b[38;5;28;01mif\u001b[39;00m \u001b[33m\"\u001b[39m\u001b[33mb\u001b[39m\u001b[33m\"\u001b[39m \u001b[38;5;129;01mnot\u001b[39;00m \u001b[38;5;129;01min\u001b[39;00m mode:\n\u001b[32m   1043\u001b[39m     encoding = io.text_encoding(encoding)\n\u001b[32m-> \u001b[39m\u001b[32m1044\u001b[39m \u001b[38;5;28;01mreturn\u001b[39;00m io.open(\u001b[38;5;28mself\u001b[39m, mode, buffering, encoding, errors, newline)\n",
      "\u001b[31mFileNotFoundError\u001b[39m: [Errno 2] No such file or directory: '/home/jf5479/cup/Maja/for_Julie/a2a_230/20241001/catgt_TowersTask_g0/TowersTask_g0_tcat.imec0.ap.meta'"
     ]
    }
   ],
   "source": [
    "ks_dir = rf\"/home/jf5479/cup/Maja/for_Julie/{subject}/{date}/kilosort4\"\n",
    "save_path = Path(\"/home/jf5479/Python/testing/bombcell_for_maja/{subject}/{date}/\")\n",
    "# Create the save path directory if it doesn't exist\n",
    "save_path.mkdir(parents=True, exist_ok=True)\n",
    "print(f\"Using kilosort directory: {ks_dir}\") \n",
    "meta_file = rf\"/home/jf5479/cup/Maja/for_Julie/{subject}/{date}/catgt_TowersTask_g0/TowersTask_g0_tcat.imec0.ap.meta\"   \n",
    "param = bc.get_default_parameters(ks_dir, meta_file=meta_file) \n",
    "param[\"extractRaw\"] = True\n",
    "param ['raw_data_file']= rf\"/home/jf5479/cup/Maja/for_Julie/{subject}/{date}/catgt_TowersTask_g0/TowersTask_g0_tcat.imec0.ap.bin\"\n",
    "param ['save_multiple_raw'] = True  #adding a new param for waveforms unitmatch  \n",
    "# Run bombcell quality metrics\n",
    "quality_metrics, param, unit_type, unit_type_string = bc.run_bombcell(\n",
    "    ks_dir, \n",
    "    save_path, \n",
    "    param\n",
    ")\n",
    "print(f\"Finished processing date: {date}\\n\")"
   ]
  },
  {
   "cell_type": "code",
   "execution_count": null,
   "id": "3873e8cc",
   "metadata": {},
   "outputs": [],
   "source": [
    "sample = rf'/home/jf5479/cup/Maja/for_Julie/a2a_230/20241001/catgt_TowersTask_g0/RawWaveforms/Unit6_RawSpikes.npy'\n",
    "sample_wave = np.load(sample, allow_pickle=True)\n",
    "\n",
    "\n",
    "bc.get_default_parameters\n",
    "\n",
    "(\n",
    "    spike_times_samples,\n",
    "    spike_clusters, # actually spike_templates, but they're the same in bombcell\n",
    "    template_waveforms,\n",
    "    template_amplitudes,\n",
    "    pc_features,\n",
    "    pc_features_idx,\n",
    "    channel_positions,\n",
    ") = bc.load_ephys_data(ks_dir)\n",
    "# replot global output plots\n",
    "bc.plot_summary_data(quality_metrics, template_waveforms, unit_type, unit_type_string, param)\n"
   ]
  }
 ],
 "metadata": {
  "kernelspec": {
   "display_name": "ephys",
   "language": "python",
   "name": "python3"
  },
  "language_info": {
   "codemirror_mode": {
    "name": "ipython",
    "version": 3
   },
   "file_extension": ".py",
   "mimetype": "text/x-python",
   "name": "python",
   "nbconvert_exporter": "python",
   "pygments_lexer": "ipython3",
   "version": "3.11.13"
  }
 },
 "nbformat": 4,
 "nbformat_minor": 5
}
